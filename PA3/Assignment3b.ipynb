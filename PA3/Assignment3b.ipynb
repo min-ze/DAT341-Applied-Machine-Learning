{
 "cells": [
  {
   "cell_type": "markdown",
   "metadata": {},
   "source": [
    "# PA3b Sentiment Classification\n",
    "#### Applied Machine Learning\n",
    "Grpup 39: Sebastian Kölbel & Min Ze Teh"
   ]
  },
  {
   "cell_type": "markdown",
   "metadata": {},
   "source": [
    "We begin by importing libraries needed for the task"
   ]
  },
  {
   "cell_type": "code",
   "execution_count": 8,
   "metadata": {},
   "outputs": [
    {
     "name": "stdout",
     "output_type": "stream",
     "text": [
      "Requirement already satisfied: seaborn in /home/koelbel/aml/my_project_env/lib/python3.10/site-packages (0.13.2)\n",
      "Requirement already satisfied: numpy!=1.24.0,>=1.20 in /home/koelbel/aml/my_project_env/lib/python3.10/site-packages (from seaborn) (1.26.4)\n",
      "Requirement already satisfied: pandas>=1.2 in /home/koelbel/aml/my_project_env/lib/python3.10/site-packages (from seaborn) (2.2.1)\n",
      "Requirement already satisfied: matplotlib!=3.6.1,>=3.4 in /home/koelbel/aml/my_project_env/lib/python3.10/site-packages (from seaborn) (3.8.3)\n",
      "Requirement already satisfied: contourpy>=1.0.1 in /home/koelbel/aml/my_project_env/lib/python3.10/site-packages (from matplotlib!=3.6.1,>=3.4->seaborn) (1.2.0)\n",
      "Requirement already satisfied: cycler>=0.10 in /home/koelbel/aml/my_project_env/lib/python3.10/site-packages (from matplotlib!=3.6.1,>=3.4->seaborn) (0.12.1)\n",
      "Requirement already satisfied: fonttools>=4.22.0 in /home/koelbel/aml/my_project_env/lib/python3.10/site-packages (from matplotlib!=3.6.1,>=3.4->seaborn) (4.50.0)\n",
      "Requirement already satisfied: kiwisolver>=1.3.1 in /home/koelbel/aml/my_project_env/lib/python3.10/site-packages (from matplotlib!=3.6.1,>=3.4->seaborn) (1.4.5)\n",
      "Requirement already satisfied: packaging>=20.0 in /home/koelbel/aml/my_project_env/lib/python3.10/site-packages (from matplotlib!=3.6.1,>=3.4->seaborn) (24.0)\n",
      "Requirement already satisfied: pillow>=8 in /home/koelbel/aml/my_project_env/lib/python3.10/site-packages (from matplotlib!=3.6.1,>=3.4->seaborn) (10.2.0)\n",
      "Requirement already satisfied: pyparsing>=2.3.1 in /home/koelbel/aml/my_project_env/lib/python3.10/site-packages (from matplotlib!=3.6.1,>=3.4->seaborn) (3.1.2)\n",
      "Requirement already satisfied: python-dateutil>=2.7 in /home/koelbel/aml/my_project_env/lib/python3.10/site-packages (from matplotlib!=3.6.1,>=3.4->seaborn) (2.9.0.post0)\n",
      "Requirement already satisfied: pytz>=2020.1 in /home/koelbel/aml/my_project_env/lib/python3.10/site-packages (from pandas>=1.2->seaborn) (2024.1)\n",
      "Requirement already satisfied: tzdata>=2022.7 in /home/koelbel/aml/my_project_env/lib/python3.10/site-packages (from pandas>=1.2->seaborn) (2024.1)\n",
      "Requirement already satisfied: six>=1.5 in /home/koelbel/aml/my_project_env/lib/python3.10/site-packages (from python-dateutil>=2.7->matplotlib!=3.6.1,>=3.4->seaborn) (1.16.0)\n"
     ]
    }
   ],
   "source": [
    "!pip install seaborn"
   ]
  },
  {
   "cell_type": "code",
   "execution_count": 1,
   "metadata": {},
   "outputs": [],
   "source": [
    "import numpy as np\n",
    "import matplotlib.pyplot as plt\n",
    "import pandas as pd\n",
    "from sklearn.svm import LinearSVC\n",
    "from sklearn.pipeline import make_pipeline\n",
    "from sklearn.model_selection import train_test_split\n",
    "from sklearn.metrics import accuracy_score\n",
    "from sklearn.linear_model import LogisticRegression\n",
    "from sklearn.model_selection import GridSearchCV\n",
    "\n",
    "# for converting training and test datasets into matrices\n",
    "from sklearn.feature_extraction.text import CountVectorizer, TfidfVectorizer\n",
    "\n",
    "from sklearn.naive_bayes import MultinomialNB, BernoulliNB"
   ]
  },
  {
   "cell_type": "markdown",
   "metadata": {},
   "source": [
    "We create a function for preprocessing the csv-files. These preprocessing steps include:\n",
    "* Making text all lower case\n",
    "* Removing leading and closing white-space\n",
    "* Make sure punctuations are separated from words"
   ]
  },
  {
   "cell_type": "code",
   "execution_count": 2,
   "metadata": {},
   "outputs": [],
   "source": [
    "def read_sentiments(doc_file):\n",
    "    with open(doc_file, 'r', encoding='utf-8') as f:\n",
    "        new_lines = []\n",
    "        for line in f:\n",
    "            line = line.lower().removesuffix('\\n').strip()\n",
    "            new_lines.append(line.split('\\t'))\n",
    "                \n",
    "        return pd.DataFrame(new_lines,columns=['sentiment','text'])"
   ]
  },
  {
   "cell_type": "markdown",
   "metadata": {},
   "source": [
    "We then separate the input values from the output values. The crowdsourced data needed some more preprocessing. There we too many values for the sentiments all consisting of typos. We checked how many errors there were, however there were only 75 errors out of more than 10 000 rows so the errors were dropped to save time."
   ]
  },
  {
   "cell_type": "code",
   "execution_count": 3,
   "metadata": {},
   "outputs": [
    {
     "name": "stdout",
     "output_type": "stream",
     "text": [
      "Dropped rows in crowdsourced data: 75\n"
     ]
    }
   ],
   "source": [
    "df = read_sentiments('Data/crowdsourced_train.csv').drop(0)\n",
    "cs_training = df[df['sentiment'].isin(['positive','negative','neutral'])]\n",
    "print('Dropped rows in crowdsourced data:',len(df)-len(cs_training))\n",
    "X_cs_train = cs_training.drop('sentiment', axis=1)\n",
    "Y_cs_train = cs_training['sentiment']\n",
    "\n",
    "gold_training = read_sentiments('Data/gold_train.csv').drop(0)\n",
    "X_gold_train = gold_training.drop('sentiment', axis=1)\n",
    "Y_gold_train = gold_training['sentiment']\n",
    "\n",
    "\n",
    "testing = read_sentiments('Data/test.csv').drop(0)\n",
    "X_test = testing.drop('sentiment', axis=1)\n",
    "Y_test = testing['sentiment']"
   ]
  },
  {
   "cell_type": "code",
   "execution_count": 31,
   "metadata": {},
   "outputs": [
    {
     "name": "stdout",
     "output_type": "stream",
     "text": [
      "sentiment\n",
      "neutral     0.473257\n",
      "positive    0.302990\n",
      "negative    0.223752\n",
      "Name: proportion, dtype: float64\n",
      "sentiment\n",
      "neutral     0.502435\n",
      "positive    0.342076\n",
      "negative    0.155489\n",
      "Name: proportion, dtype: float64\n",
      "Cohen kappa score:  0.44643812445708253\n"
     ]
    }
   ],
   "source": [
    "from sklearn.metrics import cohen_kappa_score\n",
    "\n",
    "# compare crowdsourced vs gold labeling\n",
    "print(Y_cs_train.value_counts(normalize=True))\n",
    "print(Y_gold_train.value_counts(normalize=True))\n",
    "\n",
    "print('Cohen kappa score: ', cohen_kappa_score(df['sentiment'], Y_gold_train, labels=['negative','positive','neutral']))\n"
   ]
  },
  {
   "cell_type": "code",
   "execution_count": 4,
   "metadata": {},
   "outputs": [],
   "source": [
    "def train_document_classifier(X, Y):\n",
    "    pipeline = make_pipeline(\n",
    "        # punctuations are removed here, max df should make sure that no too common words are present\n",
    "        TfidfVectorizer(encoding='utf-8',  \n",
    "                        max_df=0.05), \n",
    "        BernoulliNB())\n",
    "    pipeline.fit(X, Y)\n",
    "    return pipeline"
   ]
  },
  {
   "cell_type": "code",
   "execution_count": 5,
   "metadata": {},
   "outputs": [],
   "source": [
    "def train_document_classifier2(X, Y):\n",
    "    pipeline = make_pipeline(\n",
    "        # punctuations are removed here, max df should make sure that no too common words are present\n",
    "        TfidfVectorizer(encoding='utf-8', max_df=0.05), \n",
    "        LogisticRegression())\n",
    "    pipeline.fit(X, Y)\n",
    "    return pipeline"
   ]
  },
  {
   "cell_type": "code",
   "execution_count": 33,
   "metadata": {},
   "outputs": [
    {
     "data": {
      "text/plain": [
       "0.7119840695148443"
      ]
     },
     "execution_count": 33,
     "metadata": {},
     "output_type": "execute_result"
    }
   ],
   "source": [
    "clf = train_document_classifier(X_cs_train['text'], Y_cs_train)\n",
    "gold_t_clf = train_document_classifier2(X_gold_train['text'], Y_gold_train)\n",
    "#len(clf[0].stop_words_)\n",
    "#clf[1].\n",
    "pred_gold = gold_t_clf.predict(X_test['text'])\n",
    "#accuracy_score(Y_test, clf.predict(X_test['text']))\n",
    "accuracy_score(Y_test, pred_gold)"
   ]
  },
  {
   "cell_type": "code",
   "execution_count": 63,
   "metadata": {},
   "outputs": [
    {
     "data": {
      "image/png": "[encoded data removed]",
      "text/plain": [
       "<Figure size 640x480 with 2 Axes>"
      ]
     },
     "metadata": {},
     "output_type": "display_data"
    }
   ],
   "source": [
    "import seaborn as sns\n",
    "from sklearn.metrics import confusion_matrix\n",
    "\n",
    "matrix = confusion_matrix(Y_test, pred_gold, normalize=\"true\")\n",
    "\n",
    "sns.heatmap(matrix, annot=True, xticklabels=['negative', 'neutral','positive'], yticklabels=['negative', 'neutral','positive'])\n",
    "plt.xlabel(\"Predicted\")\n",
    "plt.ylabel(\"Actual\")\n",
    "plt.show()"
   ]
  }
 ],
 "metadata": {
  "kernelspec": {
   "display_name": "Python 3 (ipykernel)",
   "language": "python",
   "name": "python3"
  },
  "language_info": {
   "codemirror_mode": {
    "name": "ipython",
    "version": 3
   },
   "file_extension": ".py",
   "mimetype": "text/x-python",
   "name": "python",
   "nbconvert_exporter": "python",
   "pygments_lexer": "ipython3",
   "version": "3.10.12"
  }
 },
 "nbformat": 4,
 "nbformat_minor": 2
}
