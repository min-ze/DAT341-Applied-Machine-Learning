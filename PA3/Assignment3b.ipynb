{
 "cells": [
  {
   "cell_type": "markdown",
   "metadata": {},
   "source": [
    "# PA3b Sentiment Classification\n",
    "#### Applied Machine Learning\n",
    "Grpup 39: Sebastian Kölbel & Min Ze Teh"
   ]
  },
  {
   "cell_type": "code",
   "execution_count": 1,
   "metadata": {},
   "outputs": [],
   "source": [
    "import numpy as np\n",
    "import matplotlib.pyplot as plt\n",
    "import pandas as pd"
   ]
  },
  {
   "cell_type": "markdown",
   "metadata": {},
   "source": [
    "## Task1\n",
    "We begin by importing the testing and training csv files using pandas and dividing the sets into input and output."
   ]
  },
  {
   "cell_type": "code",
   "execution_count": 71,
   "metadata": {},
   "outputs": [],
   "source": [
    "cs_training = pd.read_csv('Data/crowdsourced_train.csv')\n",
    "X_cs_train = cs_training.drop('sentiment', axis=1)\n",
    "Y_cs_train = cs_training['sentiment']\n",
    "\n",
    "gold_training = pd.read_csv('Data/gold_train.csv')\n",
    "X_gold_train = gold_training.drop('sentiment', axis=1)\n",
    "Y_gold_train = gold_training['sentiment']\n",
    "\n",
    "\n",
    "testing = pd.read_csv('Data/test.csv')\n",
    "X_test = testing.drop('sentiment', axis=1)\n",
    "Y_test = testing['sentiment']"
   ]
  }
 ],
 "metadata": {
  "kernelspec": {
   "display_name": "Python 3 (ipykernel)",
   "language": "python",
   "name": "python3"
  }
 },
 "nbformat": 4,
 "nbformat_minor": 2
}
